{
 "cells": [
  {
   "cell_type": "code",
   "execution_count": 8,
   "metadata": {},
   "outputs": [
    {
     "name": "stdout",
     "output_type": "stream",
     "text": [
      "<bound method PageElement.wrap of <div _ngcontent-c17=\"\" class=\"article-container color-body font-body\">\n",
      "<!-- --><sharing _ngcontent-c17=\"\" _nghost-c28=\"\"><!-- -->\n",
      "</sharing>\n",
      "<div _ngcontent-c17=\"\" innerhtml='<figure class=\"embed-base image-embed embed-6\" role=\"presentation\"> \n",
      " <div> \n",
      "  <img src=\"https://specials-images.forbesimg.com/imageserve/130406402/960x0.jpg?cropX1=650&amp;cropX2=4816&amp;cropY1=291&amp;cropY2=3289\" alt=\"Getty\" data-height=\"3413\" data-width=\"5120\"> \n",
      " </div> \n",
      " <figcaption> \n",
      "  <fbs-accordion> \n",
      "   <p class=\"color-body light-text\">Getty</p> \n",
      "  </fbs-accordion> \n",
      "  <small>Getty</small> \n",
      " </figcaption> \n",
      "</figure> \n",
      "<p>If you have student loan debt, you may be wondering what’s the best way to pay off student loans.</p> \n",
      "<p>Here’s what you need to know.</p> \n",
      "<p><strong>Student Loans</strong></p> \n",
      "<p>Whether you have $20,000 or $100,000 or more of student loan debt, here are the best options to pay off student loans:</p> \n",
      "<p><strong>1. Refinance Student Loans</strong></p> \n",
      "<p><a href=\"https://www.forbes.com/sites/zackfriedman/2020/02/05/student-loan-refinancing-just-got-incredibly-cheap/\" target=\"_self\" class=\"color-link\" title=\"https://www.forbes.com/sites/zackfriedman/2019/11/06/refinance-student-loans-rates/\" data-ga-track=\"InternalLink:https://www.forbes.com/sites/zackfriedman/2020/02/05/student-loan-refinancing-just-got-incredibly-cheap/\" aria-label=\"Student loan refinancing rates are incredibly cheap right now\">Student loan refinancing rates are incredibly cheap right now</a>&nbsp;and start at 1.9%. Student loan refinancing is the fastest way to pay off student loan debt. When you refinance, you combine your existing federal student loans, private student loans or both into a new student loan with a lower interest rate. You can choose new loan terms, including variable or fixed rate and a loan repayment term from 5 to 20 years. Lenders prefer borrowers with at least a 650 credit score, stable and recurring income, and a low debt-to-income ratio. If that sounds like you, you could save thousands of dollars on interest costs on your student loans.</p> \n",
      " \n",
      "<p>This <a href=\"https://www.makelemonade.co/calculators/student-loan-refinancing-calculator/\" target=\"_blank\" class=\"color-link\" title=\"https://www.makelemonade.co/calculators/student-loan-refinancing-calculator/\" rel=\"nofollow noopener noreferrer\" data-ga-track=\"ExternalLink:https://www.makelemonade.co/calculators/student-loan-refinancing-calculator/\" aria-label=\"student loan refinancing calculator\">student loan refinancing calculator</a> shows how much you save when you refinance student loans.</p> \n",
      "<hr class=\"embed-base rule-embed color-accent border-solid weight-light\"> \n",
      "<div class=\"vestpocket\" vest-pocket></div> \n",
      "<p><strong>2. Apply to refinance student loans with a cosigner</strong></p> \n",
      "<p>If you don’t have good credit or stable monthly income, you can always apply with a qualified cosigner to refinance student loans. A cosigner such as a parent, spouse or other close family member can help you get approved for student loan refinancing and get a lower interest rate. Cosigners share equal financial risk if you don’t repay your student loans, so it’s important to choose a close family member or friend.</p> \n",
      "<hr class=\"embed-base rule-embed color-accent border-solid weight-light\"> \n",
      "<p><strong>3. Apply for student loan forgiveness</strong></p> \n",
      "<p>There are many types of student loan forgiveness programs, including Public Service Loan Forgiveness, Teacher Loan Forgiveness and other programs offered by state governments. The House of Representatives also recently <a href=\"https://www.forbes.com/sites/zackfriedman/2020/01/16/house-overturns-student-loan-forgiveness-rule/\" target=\"_self\" class=\"color-link\" title=\"https://www.forbes.com/sites/zackfriedman/2020/01/16/house-overturns-student-loan-forgiveness-rule/\" data-ga-track=\"InternalLink:https://www.forbes.com/sites/zackfriedman/2020/01/16/house-overturns-student-loan-forgiveness-rule/\" aria-label=\"overturned a key student loan forgiveness rule\">overturned a key student loan forgiveness rule</a>, which could affect you. Public Service Loan Forgiveness is the federal government’s primary program that will forgive all your federal student loans. You have to meet all the requirements, which include, among others, making 120 monthly payments while you work full-time for a qualified public service or non-profit employer. You can get started by completing an Employer Certification Form with the U.S. Department of Education. Don’t fall for companies that promise to <a href=\"https://www.forbes.com/sites/zackfriedman/2019/11/15/student-loan-forgiveness-refinance/\" target=\"_self\" class=\"color-link\" title=\"https://www.forbes.com/sites/zackfriedman/2019/11/15/student-loan-forgiveness-refinance/\" data-ga-track=\"InternalLink:https://www.forbes.com/sites/zackfriedman/2019/11/15/student-loan-forgiveness-refinance/\" aria-label=\"forgive all your student loans\">forgive all your student loans</a> - they don’t exist.</p> \n",
      "<hr class=\"embed-base rule-embed color-accent border-solid weight-light\"> \n",
      "<p><strong>4. Consider an income-driven repayment plan</strong></p> \n",
      "<p>For federal student loans, consider an income-driven repayment plan such as IBR, PAYE or REPAYE. Your payment is based on your discretionary income, family size and other factors, and is typically lower than the standard repayment plan. After a certain period of time (such as 20 or 25 years, for example), your federal student loans (not private student loans) can be forgiven. While your monthly payments are lower, you do not get a lower interest rate and interest still accrues on your balance. The other important thing to remember is that you will owe income taxes on the amount of student loan forgiveness you receive.</p> \n",
      "<hr class=\"embed-base rule-embed color-accent border-solid weight-light\"> \n",
      "<p><strong>5. Pay off student loan debt the old fashioned way</strong></p> \n",
      "<p>You can also just pay off student loan debt the old fashioned way: <em>by just paying them off</em>. Here are two smart <a href=\"https://www.makelemonade.co/ultimate-guide-to-pay-off-student-loans-faster/\" target=\"_blank\" class=\"color-link\" title=\"https://www.makelemonade.co/ultimate-guide-to-pay-off-student-loans-faster/\" rel=\"nofollow noopener noreferrer\" data-ga-track=\"ExternalLink:https://www.makelemonade.co/ultimate-guide-to-pay-off-student-loans-faster/\" aria-label=\"ways to pay off student loans faster\">ways to pay off student loans faster</a>. The Debt Avalanche Method is the best repayment strategy if you want to minimize the most amount of student loan interest. Always pay your monthly minimum payment, and then focus on paying off your student loan debt with the highest interest rate first. Once that is paid off, move to the student loan with the next highest interest rate until your student loans are repaid. The Snowball Method is best for borrowers who want psychological wins. This strategy says to always pay your minimum balance, and then pay off the smallest balance first and then the next highest balance until your student loans are repaid.</p> \n",
      "<div id=\"lightbox-inline-form-a918b36d-8d23-43f8-a41e-730ec79fbffc\"></div>'><figure class=\"embed-base image-embed embed-6\" role=\"presentation\">\n",
      "<div>\n",
      "\n",
      "</div>\n",
      "<figcaption>\n",
      "<fbs-accordion>\n",
      "<p class=\"color-body light-text\">Getty</p>\n",
      "</fbs-accordion>\n",
      "<small>Getty</small>\n",
      "</figcaption>\n",
      "</figure>\n",
      "<p class=\"speakable-paragraph\">If you have student loan debt, you may be wondering what’s the best way to pay off student loans.</p>\n",
      "<p>Here’s what you need to know.</p>\n",
      "<p><strong>Student Loans</strong></p>\n",
      "<p>Whether you have $20,000 or $100,000 or more of student loan debt, here are the best options to pay off student loans:</p>\n",
      "<p><strong>1. Refinance Student Loans</strong></p>\n",
      "<p><a aria-label=\"Student loan refinancing rates are incredibly cheap right now\" class=\"color-link\" data-ga-track=\"InternalLink:https://www.forbes.com/sites/zackfriedman/2020/02/05/student-loan-refinancing-just-got-incredibly-cheap/\" href=\"https://www.forbes.com/sites/zackfriedman/2020/02/05/student-loan-refinancing-just-got-incredibly-cheap/\" target=\"_self\" title=\"https://www.forbes.com/sites/zackfriedman/2019/11/06/refinance-student-loans-rates/\">Student loan refinancing rates are incredibly cheap right now</a> and start at 1.9%. Student loan refinancing is the fastest way to pay off student loan debt. When you refinance, you combine your existing federal student loans, private student loans or both into a new student loan with a lower interest rate. You can choose new loan terms, including variable or fixed rate and a loan repayment term from 5 to 20 years. Lenders prefer borrowers with at least a 650 credit score, stable and recurring income, and a low debt-to-income ratio. If that sounds like you, you could save thousands of dollars on interest costs on your student loans.</p>\n",
      "<p>This <a aria-label=\"student loan refinancing calculator\" class=\"color-link\" data-ga-track=\"ExternalLink:https://www.makelemonade.co/calculators/student-loan-refinancing-calculator/\" href=\"https://www.makelemonade.co/calculators/student-loan-refinancing-calculator/\" rel=\"nofollow noopener noreferrer\" target=\"_blank\" title=\"https://www.makelemonade.co/calculators/student-loan-refinancing-calculator/\">student loan refinancing calculator</a> shows how much you save when you refinance student loans.</p>\n",
      "<hr class=\"embed-base rule-embed color-accent border-solid weight-light\"/>\n",
      "<div class=\"vestpocket\" vest-pocket=\"\"></div>\n",
      "<p><strong>2. Apply to refinance student loans with a cosigner</strong></p>\n",
      "<p>If you don’t have good credit or stable monthly income, you can always apply with a qualified cosigner to refinance student loans. A cosigner such as a parent, spouse or other close family member can help you get approved for student loan refinancing and get a lower interest rate. Cosigners share equal financial risk if you don’t repay your student loans, so it’s important to choose a close family member or friend.</p>\n",
      "<hr class=\"embed-base rule-embed color-accent border-solid weight-light\"/>\n",
      "<p><strong>3. Apply for student loan forgiveness</strong></p>\n",
      "<p>There are many types of student loan forgiveness programs, including Public Service Loan Forgiveness, Teacher Loan Forgiveness and other programs offered by state governments. The House of Representatives also recently <a aria-label=\"overturned a key student loan forgiveness rule\" class=\"color-link\" data-ga-track=\"InternalLink:https://www.forbes.com/sites/zackfriedman/2020/01/16/house-overturns-student-loan-forgiveness-rule/\" href=\"https://www.forbes.com/sites/zackfriedman/2020/01/16/house-overturns-student-loan-forgiveness-rule/\" target=\"_self\" title=\"https://www.forbes.com/sites/zackfriedman/2020/01/16/house-overturns-student-loan-forgiveness-rule/\">overturned a key student loan forgiveness rule</a>, which could affect you. Public Service Loan Forgiveness is the federal government’s primary program that will forgive all your federal student loans. You have to meet all the requirements, which include, among others, making 120 monthly payments while you work full-time for a qualified public service or non-profit employer. You can get started by completing an Employer Certification Form with the U.S. Department of Education. Don’t fall for companies that promise to <a aria-label=\"forgive all your student loans\" class=\"color-link\" data-ga-track=\"InternalLink:https://www.forbes.com/sites/zackfriedman/2019/11/15/student-loan-forgiveness-refinance/\" href=\"https://www.forbes.com/sites/zackfriedman/2019/11/15/student-loan-forgiveness-refinance/\" target=\"_self\" title=\"https://www.forbes.com/sites/zackfriedman/2019/11/15/student-loan-forgiveness-refinance/\">forgive all your student loans</a> - they don’t exist.</p>\n",
      "<hr class=\"embed-base rule-embed color-accent border-solid weight-light\"/>\n",
      "<p><strong>4. Consider an income-driven repayment plan</strong></p>\n",
      "<p>For federal student loans, consider an income-driven repayment plan such as IBR, PAYE or REPAYE. Your payment is based on your discretionary income, family size and other factors, and is typically lower than the standard repayment plan. After a certain period of time (such as 20 or 25 years, for example), your federal student loans (not private student loans) can be forgiven. While your monthly payments are lower, you do not get a lower interest rate and interest still accrues on your balance. The other important thing to remember is that you will owe income taxes on the amount of student loan forgiveness you receive.</p>\n",
      "<hr class=\"embed-base rule-embed color-accent border-solid weight-light\"/>\n",
      "<p><strong>5. Pay off student loan debt the old fashioned way</strong></p>\n",
      "<p>You can also just pay off student loan debt the old fashioned way: <em>by just paying them off</em>. Here are two smart <a aria-label=\"ways to pay off student loans faster\" class=\"color-link\" data-ga-track=\"ExternalLink:https://www.makelemonade.co/ultimate-guide-to-pay-off-student-loans-faster/\" href=\"https://www.makelemonade.co/ultimate-guide-to-pay-off-student-loans-faster/\" rel=\"nofollow noopener noreferrer\" target=\"_blank\" title=\"https://www.makelemonade.co/ultimate-guide-to-pay-off-student-loans-faster/\">ways to pay off student loans faster</a>. The Debt Avalanche Method is the best repayment strategy if you want to minimize the most amount of student loan interest. Always pay your monthly minimum payment, and then focus on paying off your student loan debt with the highest interest rate first. Once that is paid off, move to the student loan with the next highest interest rate until your student loans are repaid. The Snowball Method is best for borrowers who want psychological wins. This strategy says to always pay your minimum balance, and then pay off the smallest balance first and then the next highest balance until your student loans are repaid.</p>\n",
      "<div id=\"lightbox-inline-form-a918b36d-8d23-43f8-a41e-730ec79fbffc\"></div></div>\n",
      "</div>> \n"
     ]
    }
   ],
   "source": [
    "import json\n",
    "import re\n",
    "import html\n",
    "from bs4 import BeautifulSoup\n",
    "from unidecode import unidecode\n",
    "import requests\n",
    "page = \"https://www.forbes.com/sites/zackfriedman/2020/01/22/pay-off-student-loan-debt/#2e65026918ab\"\n",
    "page = requests.get(page).text\n",
    "#print(page)\n",
    "soup = BeautifulSoup(page, 'lxml')\n",
    "[tagstring.extract() for tagstring in soup('script')] ### extracts all content not between balance <script> tags\n",
    "[tagstring.extract() for tagstring in soup('table')] ### extracts all content not between balance <table> tags\n",
    "[tagstring.extract() for tagstring in soup('iframe')] ### extracts all content not between balance <iframe> tags\n",
    "[tagstring.extract() for tagstring in soup('blockquote')] ### extracts all content not between balance <iblockquote> tags\n",
    "[tagstring.extract() for tagstring in soup('ol')] ### extracts all content not between balance <ol> tags\n",
    "[tagstring.extract() for tagstring in soup('ul')] ### extracts all content not between balance <ul> tags\n",
    "[tagstring.extract() for tagstring in soup('h1')] ### extracts all content not between balance <h1> tags\n",
    "[tagstring.extract() for tagstring in soup('h2')] ### extracts all content not between balance <h2> tags\n",
    "[tagstring.extract() for tagstring in soup('h3')] ### extracts all content not between balance <h3> tags\n",
    "[tagstring.extract() for tagstring in soup('h4')] ### extracts all content not between balance <h4> tags\n",
    "[tagstring.extract() for tagstring in soup('h5')] ### extracts all content not between balance <h5> tags\n",
    "[tagstring.extract() for tagstring in soup('img')] ### extracts all content not between balance <img> tags\n",
    "filtered_content = soup.find_all('div', class_='article-container color-body font-body')\n",
    "content = \"\"\n",
    "for wrapped_paragraph in filtered_content:\n",
    "    content+= html.unescape(str(wrapped_paragraph.wrap))+\" \"\n",
    "print(content)  "
   ]
  },
  {
   "cell_type": "code",
   "execution_count": 49,
   "metadata": {},
   "outputs": [
    {
     "name": "stdout",
     "output_type": "stream",
     "text": [
      "In the 1960s, spaghetti Westerns were box office smashes thanks to Italian directors like Sergio Leone, who could bring outlaws, saloons and gunfights to life on the big screen cheaply by making movies in Europe. But the original spaghetti Western had come out 50 years earlier, when Giacomo Puccini unveiled his opera \"The Girl of the Golden West,\" says Lillian Groag, who returns to Virginia Opera to direct \"Girl.\" \"When you see a Puccini opera, you expect a certain thing,\" Groag says. \"And instead, here you're in a saloon and there are broken bottles flying and gunfights. It's all great fun.\" Puccini had always been attracted to other cultures, as evidenced by works such as \"Madame Butterfly\" and \"Turandot,\" and he became fascinated with the West during a trip to New York City when he saw a play of the same name that inspired his opera. \"He was in love with America and he saw the play, which was a huge hit in 1910, and he ended up with a very American opera which is a story about the American Dream,\" Groag says. The girl in \"The Girl of the Golden West\" is a tough saloon owner, Minnie, who watches out for the hard-drinking, card-playing miners who hang out in her bar. Set in the mid-1800s after the California Gold Rush had gone bust, the opera has a hard-edged, even desperate, cast of characters. Groag says Virginia Opera will convey that desperation by situating all of the sets - the saloon, Minnie's cabin, the exterior scenes - inside the larger confines of a crumbling mine shaft to remind audiences that the promise of the Gold Rush was a pipe dream for many settlers and immigrants. \"It's meant to be symbolic. All these boys who came from all over the world to support their families and make a better life, they came for nothing. It didn't work out. But I say it's a very American opera because everyone has a chance at redemption.\" The characters are more fully developed than in many other operas, Groag says. \"The good guys are not flawless and the bad guys are not one-dimensional. Nobody is clean. But the music is breathtaking. It's very innocent, and, in the oddest way, it's a feel-good opera.\" Part of the innocence will be underscored by the debut of Virginia Opera's newest cast member, Beethoven the dog. Owned by cast member Bille Bruley, the big mixed-breed is portraying a camp dog in the production. \"The minute the audience sees this big scruffy dog walking around the stage doing doggy things, everyone is on the edge of their seats. You never know what he's going to do. He's wonderful,\" Groag says. While it's not an opera that many audiences are familiar with, Groag says, much of the music will ring a bell. After the World War II, composers of Europe came to America to write music for films and musicals and borrowed liberally from the score. \"You'll recognize the tunes. They all knew the opera and incorporated it into their work.\" A modern debate along these lines focuses on the eerie similarity between the recurring love theme in \"Girl\" and Andrew Lloyd Webber's \"Music of the Night\" from \"Phantom of the Opera\" and whether it's accidental or outright plagiarism. Either way, Groag says, the recognizable music, shootouts, saloon fights and adorable canine make this an accessible opera for newcomers, and a good beginning opera for kids. \"It's a blast, and the ending is beautiful. In rehearsal, we ended with everyone sobbing. I said, 'That's great, but just don't do that for real onstage.' \"\n"
     ]
    }
   ],
   "source": [
    "import json\n",
    "import re\n",
    "js= json.load(open(\"pilot_json/corpus/pilot_20180112044101985994_3330.json\"))\n",
    "js.keys()\n",
    "from bs4 import BeautifulSoup\n",
    "from unidecode import unidecode\n",
    "content=\" \".join(js[\"rows\"][0][\"content\"])\n",
    "content=unidecode(content)\n",
    "soup = BeautifulSoup(content, 'lxml')\n",
    "# ### actual begining <!-- begin a.*?body area --> ### i did it like this because they randomly mispelled article in <!-- begin araticle body area -->\n",
    "# ### articles begin <div class=\"aFullContent\">\n",
    "# ###  articles end <!-- end article body area -->\n",
    "[tagstring.extract() for tagstring in soup('script')] ### extracts all content not between balance <script> tags\n",
    "[tagstring.extract() for tagstring in soup('table')] ### extracts all content not between balance <table> tags\n",
    "[tagstring.extract() for tagstring in soup('iframe')] ### extracts all content not between balance <iframe> tags\n",
    "[tagstring.extract() for tagstring in soup('blockquote')] ### extracts all content not between balance <iblockquote> tags\n",
    "[tagstring.extract() for tagstring in soup('ol')] ### extracts all content not between balance <ol> tags\n",
    "[tagstring.extract() for tagstring in soup('ul')] ### extracts all content not between balance <ul> tags\n",
    "[tagstring.extract() for tagstring in soup('h1')] ### extracts all content not between balance <h1> tags\n",
    "[tagstring.extract() for tagstring in soup('h2')] ### extracts all content not between balance <h2> tags\n",
    "[tagstring.extract() for tagstring in soup('h3')] ### extracts all content not between balance <h3> tags\n",
    "[tagstring.extract() for tagstring in soup('h4')] ### extracts all content not between balance <h4> tags\n",
    "[tagstring.extract() for tagstring in soup('h5')] ### extracts all content not between balance <h5> tags\n",
    "[tagstring.extract() for tagstring in soup('img')] ### extracts all content not between balance <img> tags\n",
    "\n",
    "filtered_content = soup.find_all('div', class_='article-container color-body font-body')\n",
    "content = \"\"\n",
    "for wrapped_paragraph in filtered_content:\n",
    "    content+= str(wrapped_paragraph.wrap)+\" \"\n",
    "#print(moment)  \n",
    "content = re.sub(r\"<bound.*?>\",\"\",content).strip() ###some article begin with this\n",
    "content = \". \".join(content.split(\"\\n\")).strip()\n",
    "content = re.sub(r\"<\\!--.*\",\"\",content,re.DOTALL)\n",
    "content = \". \".join(content.split(\"\\n\")).strip()\n",
    "content = \" \".join(re.sub(r\"\\.\\s{,2}\\.\\s\",\". \",content,re.DOTALL).split())\n",
    "content = \" \".join(re.sub(r\"\\[.*?\\]\",\" \",content,re.DOTALL).split())\n",
    "content = re.sub(r\"\\<span.*?</span\\>\",\" \",content,re.DOTALL)\n",
    "content = content.replace('<div itemprop=\"reviewBody\">',\"\") ###some article begin with this\n",
    "content = content.replace(\"---\",\". \")\n",
    "content = \" \".join(re.sub(r\"<.*?>\",\"\" ,content,re.DOTALL).split(\"\\n\"))\n",
    "content = re.sub(r\"<.*?>\",\"\" ,content,re.DOTALL)\n",
    "\n",
    "print(content)"
   ]
  },
  {
   "cell_type": "code",
   "execution_count": 44,
   "metadata": {},
   "outputs": [
    {
     "data": {
      "text/plain": [
       "'In the 1960s, spaghetti Westerns were box office smashes thanks to Italian directors like Sergio Leone, who could bring outlaws, saloons and gunfights to life on the big screen cheaply by making movies in Europe. But the original spaghetti Western had come out 50 years earlier, when Giacomo Puccini unveiled his opera \"The Girl of the Golden West,\" says Lillian Groag, who returns to Virginia Opera to direct \"Girl.\" \"When you see a Puccini opera, you expect a certain thing,\" Groag says. \"And instead, here you\\'re in a saloon and there are broken bottles flying and gunfights. It\\'s all great fun.\" Puccini had always been attracted to other cultures, as evidenced by works such as \"Madame Butterfly\" and \"Turandot,\" and he became fascinated with the West during a trip to New York City when he saw a play of the same name that inspired his opera. \"He was in love with America and he saw the play, which was a huge hit in 1910, and he ended up with a very American opera which is a story about the American Dream,\" Groag says. The girl in \"The Girl of the Golden West\" is a tough saloon owner, Minnie, who watches out for the hard-drinking, card-playing miners who hang out in her bar. Set in the mid-1800s after the California Gold Rush had gone bust, the opera has a hard-edged, even desperate, cast of characters. Groag says Virginia Opera will convey that desperation by situating all of the sets - the saloon, Minnie\\'s cabin, the exterior scenes - inside the larger confines of a crumbling mine shaft to remind audiences that the promise of the Gold Rush was a pipe dream for many settlers and immigrants. \"It\\'s meant to be symbolic. All these boys who came from all over the world to support their families and make a better life, they came for nothing. It didn\\'t work out. But I say it\\'s a very American opera because everyone has a chance at redemption.\" The characters are more fully developed than in many other operas, Groag says. <p>\"The good guys are not flawless and the bad guys are not one-dimensional. Nobody is clean. But the music is breathtaking. It\\'s very innocent, and, in the oddest way, it\\'s a feel-good opera.\"</p> <p>Part of the innocence will be underscored by the debut of Virginia Opera\\'s newest cast member, Beethoven the dog. Owned by cast member Bille Bruley, the big mixed-breed is portraying a camp dog in the production.</p> <p>\"The minute the audience sees this big scruffy dog walking around the stage doing doggy things, everyone is on the edge of their seats. You never know what he\\'s going to do. He\\'s wonderful,\" Groag says.</p> <p>While it\\'s not an opera that many audiences are familiar with, Groag says, much of the music will ring a bell. After the World War II, composers of Europe came to America to write music for films and musicals and borrowed liberally from the score.</p> <p>\"You\\'ll recognize the tunes. They all knew the opera and incorporated it into their work.\"</p> <p>A modern debate along these lines focuses on the eerie similarity between the recurring love theme in \"Girl\" and Andrew Lloyd Webber\\'s \"Music of the Night\" from \"Phantom of the Opera\" and whether it\\'s accidental or outright plagiarism.</p> <p>Either way, Groag says, the recognizable music, shootouts, saloon fights and adorable canine make this an accessible opera for newcomers, and a good beginning opera for kids.</p> <p>\"It\\'s a blast, and the ending is beautiful. In rehearsal, we ended with everyone sobbing. I said, \\'That\\'s great, but just don\\'t do that for real onstage.\\' \"</p>'"
      ]
     },
     "execution_count": 44,
     "metadata": {},
     "output_type": "execute_result"
    }
   ],
   "source": []
  },
  {
   "cell_type": "code",
   "execution_count": 1,
   "metadata": {},
   "outputs": [],
   "source": [
    "import re"
   ]
  },
  {
   "cell_type": "code",
   "execution_count": 12,
   "metadata": {},
   "outputs": [
    {
     "name": "stdout",
     "output_type": "stream",
     "text": [
      "\n"
     ]
    }
   ],
   "source": [
    "soup = BeautifulSoup(content, 'lxml')\n",
    "import re\n",
    "# ### actual begining <!-- begin a.*?body area --> ### i did it like this because they randomly mispelled article in <!-- begin araticle body area -->\n",
    "# ### articles begin <div class=\"aFullContent\">\n",
    "# ###  articles end <!-- end article body area -->\n",
    "[tagstring.extract() for tagstring in soup('strong')] ### extracts all content not between balance <script> tags\n",
    "# [tagstring.extract() for tagstring in soup('div', class_='' )] ### extracts all content not between balance <img> tags\n",
    "\n",
    "filtered_content = soup.find_all('p')\n",
    "content = \"\"\n",
    "for wrapped_paragraph in filtered_content:\n",
    "    content+= str(wrapped_paragraph.wrap)+\" \"\n",
    "# content = re.sub(r\"<bound.*?>\",\"\",content).strip() ###some article begin with this\n",
    "# content = \". \".join(content.split(\"\\n\")).strip()\n",
    "# content = re.sub(r\"<\\!--.*\",\"\",content,re.DOTALL)\n",
    "# content = \". \".join(content.split(\"\\n\")).strip()\n",
    "# content = \" \".join(re.sub(r\"\\.\\s{,2}\\.\\s\",\". \",content,re.DOTALL).split())\n",
    "# content = \" \".join(re.sub(r\"\\[.*?\\]\",\" \",content,re.DOTALL).split())\n",
    "# content = re.sub(r\"\\<span.*?</span\\>\",\" \",content,re.DOTALL)\n",
    "# content = content.replace('<div itemprop=\"reviewBody\">',\"\") ###some article begin with this\n",
    "# content = content.replace(\"---\",\". \")\n",
    "\n",
    "print(content)"
   ]
  },
  {
   "cell_type": "code",
   "execution_count": 1,
   "metadata": {},
   "outputs": [],
   "source": [
    "import json\n",
    "j = json.load(open(\"training_articles/forbes.com_cybersecurity77.json\"))"
   ]
  },
  {
   "cell_type": "code",
   "execution_count": 3,
   "metadata": {},
   "outputs": [
    {
     "data": {
      "text/plain": [
       "dict_keys(['title', 'description', 'content'])"
      ]
     },
     "execution_count": 3,
     "metadata": {},
     "output_type": "execute_result"
    }
   ],
   "source": [
    "j['https://www.forbes.com/sites/moorinsights/2020/02/18/arm-and-economist-shows-3x-internal-iot-deployment-increase-since-2013/'].keys()"
   ]
  },
  {
   "cell_type": "code",
   "execution_count": 13,
   "metadata": {},
   "outputs": [],
   "source": [
    "import html\n",
    "content =html.unescape(j['https://www.forbes.com/sites/moorinsights/2020/02/18/arm-and-economist-shows-3x-internal-iot-deployment-increase-since-2013/']['content'])"
   ]
  },
  {
   "cell_type": "code",
   "execution_count": 6,
   "metadata": {},
   "outputs": [
    {
     "ename": "NameError",
     "evalue": "name 'content' is not defined",
     "output_type": "error",
     "traceback": [
      "\u001b[0;31m---------------------------------------------------------------------------\u001b[0m",
      "\u001b[0;31mNameError\u001b[0m                                 Traceback (most recent call last)",
      "\u001b[0;32m<ipython-input-6-60c14b75c530>\u001b[0m in \u001b[0;36m<module>\u001b[0;34m\u001b[0m\n\u001b[1;32m      1\u001b[0m \u001b[0;32mfrom\u001b[0m \u001b[0mbs4\u001b[0m \u001b[0;32mimport\u001b[0m \u001b[0mBeautifulSoup\u001b[0m\u001b[0;34m\u001b[0m\u001b[0;34m\u001b[0m\u001b[0m\n\u001b[0;32m----> 2\u001b[0;31m \u001b[0msoup\u001b[0m \u001b[0;34m=\u001b[0m \u001b[0mBeautifulSoup\u001b[0m\u001b[0;34m(\u001b[0m\u001b[0mcontent\u001b[0m\u001b[0;34m,\u001b[0m \u001b[0;34m'lxml'\u001b[0m\u001b[0;34m)\u001b[0m\u001b[0;34m\u001b[0m\u001b[0;34m\u001b[0m\u001b[0m\n\u001b[0m\u001b[1;32m      3\u001b[0m \u001b[0;31m# ### actual begining <!-- begin a.*?body area --> ### i did it like this because they randomly mispelled article in <!-- begin araticle body area -->\u001b[0m\u001b[0;34m\u001b[0m\u001b[0;34m\u001b[0m\u001b[0;34m\u001b[0m\u001b[0m\n\u001b[1;32m      4\u001b[0m \u001b[0;31m# ### articles begin <div class=\"aFullContent\">\u001b[0m\u001b[0;34m\u001b[0m\u001b[0;34m\u001b[0m\u001b[0;34m\u001b[0m\u001b[0m\n\u001b[1;32m      5\u001b[0m \u001b[0;31m# ###  articles end <!-- end article body area -->\u001b[0m\u001b[0;34m\u001b[0m\u001b[0;34m\u001b[0m\u001b[0;34m\u001b[0m\u001b[0m\n",
      "\u001b[0;31mNameError\u001b[0m: name 'content' is not defined"
     ]
    }
   ],
   "source": [
    "from bs4 import BeautifulSoup\n",
    "soup = BeautifulSoup(content, 'lxml')\n",
    "# ### actual begining <!-- begin a.*?body area --> ### i did it like this because they randomly mispelled article in <!-- begin araticle body area -->\n",
    "# ### articles begin <div class=\"aFullContent\">\n",
    "# ###  articles end <!-- end article body area -->\n",
    "[tagstring.extract() for tagstring in soup('script')] ### extracts all content not between balance <script> tags\n",
    "[tagstring.extract() for tagstring in soup('table')] ### extracts all content not between balance <table> tags\n",
    "[tagstring.extract() for tagstring in soup('iframe')] ### extracts all content not between balance <iframe> tags\n",
    "[tagstring.extract() for tagstring in soup('blockquote')] ### extracts all content not between balance <iblockquote> tags\n",
    "[tagstring.extract() for tagstring in soup('ol')] ### extracts all content not between balance <ol> tags\n",
    "[tagstring.extract() for tagstring in soup('ul')] ### extracts all content not between balance <ul> tags\n",
    "[tagstring.extract() for tagstring in soup('h1')] ### extracts all content not between balance <h1> tags\n",
    "[tagstring.extract() for tagstring in soup('h2')] ### extracts all content not between balance <h2> tags\n",
    "[tagstring.extract() for tagstring in soup('h3')] ### extracts all content not between balance <h3> tags\n",
    "[tagstring.extract() for tagstring in soup('h4')] ### extracts all content not between balance <h4> tags\n",
    "[tagstring.extract() for tagstring in soup('h5')] ### extracts all content not between balance <h5> tags\n",
    "[tagstring.extract() for tagstring in soup('img')] ### extracts all content not between balance <img> tags\n",
    "[tagstring.extract() for tagstring in soup('div', class_='' )] ### extracts all content not between balance <img> tags\n",
    "\n",
    "filtered_content = soup.find_all('div', class_=\"aFullContent\")\n",
    "content = \"\"\n",
    "for wrapped_paragraph in filtered_content:\n",
    "    content+= str(wrapped_paragraph.wrap)+\" \""
   ]
  },
  {
   "cell_type": "code",
   "execution_count": null,
   "metadata": {},
   "outputs": [],
   "source": []
  }
 ],
 "metadata": {
  "kernelspec": {
   "display_name": "Python 3",
   "language": "python",
   "name": "python3"
  },
  "language_info": {
   "codemirror_mode": {
    "name": "ipython",
    "version": 3
   },
   "file_extension": ".py",
   "mimetype": "text/x-python",
   "name": "python",
   "nbconvert_exporter": "python",
   "pygments_lexer": "ipython3",
   "version": "3.8.0"
  }
 },
 "nbformat": 4,
 "nbformat_minor": 2
}
