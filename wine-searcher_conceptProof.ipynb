{
 "cells": [
  {
   "cell_type": "code",
   "execution_count": 3,
   "metadata": {},
   "outputs": [],
   "source": [
    "from selenium import webdriver\n",
    "from pyvirtualdisplay import Display\n",
    "from bs4 import BeautifulSoup as BS\n",
    "import os\n",
    "import re\n",
    "from webdriver_manager.firefox import GeckoDriverManager"
   ]
  },
  {
   "cell_type": "code",
   "execution_count": null,
   "metadata": {},
   "outputs": [],
   "source": []
  },
  {
   "cell_type": "code",
   "execution_count": 4,
   "metadata": {},
   "outputs": [],
   "source": [
    "# display = Display(visible=0, size=(1024, 768))\n",
    "# display.start()"
   ]
  },
  {
   "cell_type": "code",
   "execution_count": 5,
   "metadata": {},
   "outputs": [
    {
     "name": "stderr",
     "output_type": "stream",
     "text": [
      "\n",
      "\n",
      "INFO:WDM:\n",
      "\n",
      "====== WebDriver manager ======\n",
      "INFO:WDM:====== WebDriver manager ======\n",
      "Current firefox version is 89.0\n",
      "INFO:WDM:Current firefox version is 89.0\n",
      "Get LATEST driver version for 89.0\n",
      "INFO:WDM:Get LATEST driver version for 89.0\n",
      "There is no [macos] geckodriver for browser 89.0 in cache\n",
      "INFO:WDM:There is no [macos] geckodriver for browser 89.0 in cache\n",
      "Get LATEST driver version for 89.0\n",
      "INFO:WDM:Get LATEST driver version for 89.0\n",
      "Getting latest mozilla release info for v0.29.1\n",
      "INFO:WDM:Getting latest mozilla release info for v0.29.1\n",
      "Get LATEST driver version for 89.0\n",
      "INFO:WDM:Get LATEST driver version for 89.0\n",
      "Get LATEST driver version for 89.0\n",
      "INFO:WDM:Get LATEST driver version for 89.0\n",
      "Trying to download new driver from https://github.com/mozilla/geckodriver/releases/download/v0.29.1/geckodriver-v0.29.1-macos.tar.gz\n",
      "INFO:WDM:Trying to download new driver from https://github.com/mozilla/geckodriver/releases/download/v0.29.1/geckodriver-v0.29.1-macos.tar.gz\n",
      "Driver has been saved in cache [/Users/okara/.wdm/drivers/geckodriver/macos/v0.29.1]\n",
      "INFO:WDM:Driver has been saved in cache [/Users/okara/.wdm/drivers/geckodriver/macos/v0.29.1]\n"
     ]
    }
   ],
   "source": [
    "driver = webdriver.Firefox(executable_path=GeckoDriverManager().install())"
   ]
  },
  {
   "cell_type": "code",
   "execution_count": 6,
   "metadata": {},
   "outputs": [],
   "source": [
    "driver.get('https://www.wine-searcher.com/regions.lml')"
   ]
  },
  {
   "cell_type": "code",
   "execution_count": 7,
   "metadata": {},
   "outputs": [],
   "source": [
    "# driver.find_element_by_class_name(\"naviH3\").click()"
   ]
  },
  {
   "cell_type": "code",
   "execution_count": 8,
   "metadata": {},
   "outputs": [],
   "source": [
    "driver.find_element_by_link_text(\"Argentina\").click()"
   ]
  },
  {
   "cell_type": "code",
   "execution_count": 9,
   "metadata": {},
   "outputs": [],
   "source": [
    "driver.find_element_by_link_text(\"Cafayate - Calchaqui Valley\").click()"
   ]
  },
  {
   "cell_type": "code",
   "execution_count": 10,
   "metadata": {},
   "outputs": [],
   "source": [
    "driver.find_element_by_link_text(\"Most Expensive\").click()"
   ]
  },
  {
   "cell_type": "code",
   "execution_count": 11,
   "metadata": {},
   "outputs": [],
   "source": [
    "tabl = driver.find_elements_by_class_name(\"wlrwdt\")"
   ]
  },
  {
   "cell_type": "code",
   "execution_count": 12,
   "metadata": {},
   "outputs": [
    {
     "data": {
      "text/plain": [
       "[<selenium.webdriver.firefox.webelement.FirefoxWebElement (session=\"d1c96759-141b-8143-ade1-e03a89eb3bf4\", element=\"2fdea5a6-b0ed-ca44-b883-8d38e64e9daa\")>,\n",
       " <selenium.webdriver.firefox.webelement.FirefoxWebElement (session=\"d1c96759-141b-8143-ade1-e03a89eb3bf4\", element=\"bfe2aa54-f705-3940-86fc-b11bc9f4646f\")>,\n",
       " <selenium.webdriver.firefox.webelement.FirefoxWebElement (session=\"d1c96759-141b-8143-ade1-e03a89eb3bf4\", element=\"0b67a226-4b7d-e442-9600-1827bb02db14\")>,\n",
       " <selenium.webdriver.firefox.webelement.FirefoxWebElement (session=\"d1c96759-141b-8143-ade1-e03a89eb3bf4\", element=\"8047f5f2-7329-3c48-8929-93eee731df9b\")>,\n",
       " <selenium.webdriver.firefox.webelement.FirefoxWebElement (session=\"d1c96759-141b-8143-ade1-e03a89eb3bf4\", element=\"1a78d406-2841-7343-82f0-cd7af47b55d3\")>,\n",
       " <selenium.webdriver.firefox.webelement.FirefoxWebElement (session=\"d1c96759-141b-8143-ade1-e03a89eb3bf4\", element=\"3fd5d645-f46c-9146-85de-2ba881b060bc\")>,\n",
       " <selenium.webdriver.firefox.webelement.FirefoxWebElement (session=\"d1c96759-141b-8143-ade1-e03a89eb3bf4\", element=\"443ae623-a0d6-1141-afad-f986da1fd066\")>,\n",
       " <selenium.webdriver.firefox.webelement.FirefoxWebElement (session=\"d1c96759-141b-8143-ade1-e03a89eb3bf4\", element=\"9d7e7b76-ee8d-e647-89b1-5cf209730047\")>,\n",
       " <selenium.webdriver.firefox.webelement.FirefoxWebElement (session=\"d1c96759-141b-8143-ade1-e03a89eb3bf4\", element=\"f9aeb86d-213d-e540-87fe-0b992c2aa7ae\")>,\n",
       " <selenium.webdriver.firefox.webelement.FirefoxWebElement (session=\"d1c96759-141b-8143-ade1-e03a89eb3bf4\", element=\"59f9e906-531c-0340-a4c7-a138a3eae3dd\")>,\n",
       " <selenium.webdriver.firefox.webelement.FirefoxWebElement (session=\"d1c96759-141b-8143-ade1-e03a89eb3bf4\", element=\"97db0450-b508-e442-83c6-4be687a823c2\")>,\n",
       " <selenium.webdriver.firefox.webelement.FirefoxWebElement (session=\"d1c96759-141b-8143-ade1-e03a89eb3bf4\", element=\"a85ce389-d927-9442-94e4-f5c555449b75\")>,\n",
       " <selenium.webdriver.firefox.webelement.FirefoxWebElement (session=\"d1c96759-141b-8143-ade1-e03a89eb3bf4\", element=\"ce3a1f4d-62aa-3f4b-9b0d-4c3ef33925a8\")>,\n",
       " <selenium.webdriver.firefox.webelement.FirefoxWebElement (session=\"d1c96759-141b-8143-ade1-e03a89eb3bf4\", element=\"1658b27c-a21e-a54d-927e-97afd43c7546\")>,\n",
       " <selenium.webdriver.firefox.webelement.FirefoxWebElement (session=\"d1c96759-141b-8143-ade1-e03a89eb3bf4\", element=\"1af3d094-7fe2-3d4d-abe0-00138ed2cc35\")>,\n",
       " <selenium.webdriver.firefox.webelement.FirefoxWebElement (session=\"d1c96759-141b-8143-ade1-e03a89eb3bf4\", element=\"b1991a61-eaea-5c46-9c7c-254800623bb0\")>,\n",
       " <selenium.webdriver.firefox.webelement.FirefoxWebElement (session=\"d1c96759-141b-8143-ade1-e03a89eb3bf4\", element=\"d17786be-77e7-0244-94b2-baca1c0b31af\")>,\n",
       " <selenium.webdriver.firefox.webelement.FirefoxWebElement (session=\"d1c96759-141b-8143-ade1-e03a89eb3bf4\", element=\"18700cce-5e80-704e-a67e-9fdad767a702\")>,\n",
       " <selenium.webdriver.firefox.webelement.FirefoxWebElement (session=\"d1c96759-141b-8143-ade1-e03a89eb3bf4\", element=\"7dfd820b-3b2b-fa4f-afbb-89b64391eea0\")>,\n",
       " <selenium.webdriver.firefox.webelement.FirefoxWebElement (session=\"d1c96759-141b-8143-ade1-e03a89eb3bf4\", element=\"5cdc9819-8629-1443-b211-e0d606b91d82\")>,\n",
       " <selenium.webdriver.firefox.webelement.FirefoxWebElement (session=\"d1c96759-141b-8143-ade1-e03a89eb3bf4\", element=\"25f8b82c-280d-a64a-99c5-934ca06e41d8\")>,\n",
       " <selenium.webdriver.firefox.webelement.FirefoxWebElement (session=\"d1c96759-141b-8143-ade1-e03a89eb3bf4\", element=\"6b911a0b-56c4-d643-a960-a366f72ed4a9\")>,\n",
       " <selenium.webdriver.firefox.webelement.FirefoxWebElement (session=\"d1c96759-141b-8143-ade1-e03a89eb3bf4\", element=\"fc361726-8cda-ee46-93cb-206911a87b0a\")>,\n",
       " <selenium.webdriver.firefox.webelement.FirefoxWebElement (session=\"d1c96759-141b-8143-ade1-e03a89eb3bf4\", element=\"8b2e2e92-aa4d-2b41-84bf-53205635f47d\")>,\n",
       " <selenium.webdriver.firefox.webelement.FirefoxWebElement (session=\"d1c96759-141b-8143-ade1-e03a89eb3bf4\", element=\"a01ea5a3-6697-5844-85d5-b698355d1e3e\")>]"
      ]
     },
     "execution_count": 12,
     "metadata": {},
     "output_type": "execute_result"
    }
   ],
   "source": [
    "tabl"
   ]
  },
  {
   "cell_type": "code",
   "execution_count": 13,
   "metadata": {},
   "outputs": [],
   "source": [
    "eachlem=[]\n",
    "for i in tabl:\n",
    "    eachlem.append(i.get_attribute('innerHTML'))"
   ]
  },
  {
   "cell_type": "code",
   "execution_count": 14,
   "metadata": {},
   "outputs": [
    {
     "data": {
      "text/plain": [
       "'\\n<td class=\"names-list-cell\">\\n<span class=\"m-top--4 wlicon btlred\"></span>\\n<a class=\"wine-suggest-link\" href=\"/find/el+esteco+chantal+junco+calchaqui+valley+cafayate+argentina/1/usa\">Bodega El Esteco Chanar Punco, Calchaqui Valley, Argentina</a>                </td>\\n\\n\\n<td class=\"names-list-cell \"><a href=\"/grape-1728-cabernet-sauvignon-malbec\">Cabernet Sauvignon - Malbec</a></td>\\n\\n\\n\\n<td class=\"names-list-cell wlar\">23,824<sup>th</sup></td>\\n\\n<td class=\"names-list-cell wlar nowrap\">92</td>\\n\\n\\n<td class=\"names-list-cell wlar nowrap\">\\n<span>$</span><span><b>62</b></span>                </td>\\n'"
      ]
     },
     "execution_count": 14,
     "metadata": {},
     "output_type": "execute_result"
    }
   ],
   "source": [
    "eachlem[2]"
   ]
  },
  {
   "cell_type": "code",
   "execution_count": 15,
   "metadata": {},
   "outputs": [],
   "source": [
    "rooturl = \"https://www.wine-searcher.com\"\n",
    "dicttme=[]"
   ]
  },
  {
   "cell_type": "code",
   "execution_count": 16,
   "metadata": {},
   "outputs": [],
   "source": [
    "for i in eachlem:\n",
    "    j = \" \".join(i.split())\n",
    "    href = re.search(r\"<a.*?href=\\\"(.*?)\\\">\",j,re.DOTALL)\n",
    "    if href:\n",
    "        href = rooturl+href[1]\n",
    "    else:\n",
    "        href = \"\"\n",
    "    title = re.search(r\"<a.*?>(.*?)</a>\",j,re.DOTALL)\n",
    "    if not title:\n",
    "        continue\n",
    "    title = title[1]\n",
    "    \n",
    "    grape_link = re.search(r\"<td.*?class=\\\"names-list-cell\\snowrap\\\"><a\\shref=\\\"/(grape.*?)\\\">(.*?)</a></td>\",j,re.DOTALL)\n",
    "    if grape_link:\n",
    "        grape = grape_link[2]\n",
    "        grape_link = grape_link[1]\n",
    "    else:\n",
    "        continue\n",
    "#     grape= re.search(r\"<td\\sclass=\\\"names-list-cell\\snowrap\\\"><a\\shref=\\\"/grape.*?\\\">(.*?)</a></td>\",j,re.MULTILINE,re.FINDALL)\n",
    "    \n",
    "    prices = re.findall(r\"<td\\sclass=\\\"names-list-cell wlar.*?\\\">([\\d,]+?)(<sup>|</td>)\",j,re.DOTALL)\n",
    "    av_price = re.search(r\"<b>(\\d+)</b>\",j,re.DOTALL)\n",
    "    if av_price:\n",
    "        av_price = int(av_price[1].strip())\n",
    "    else:\n",
    "        av_price = \"\"\n",
    "    popularity = prices[0][0]\n",
    "    if type(popularity) == str and len(popularity.strip())>0:\n",
    "        popularity = popularity.replace(\",\",\"\")\n",
    "        try:\n",
    "            popularity=int(popularity)\n",
    "        except:\n",
    "            popularity = \"\"\n",
    "    rating = prices[1][0]\n",
    "    if len(rating)>0:\n",
    "        rating=int(rating)\n",
    "    dicttme.append({\"title\":title,\"href\":href,\"grape_link\":grape_link,\"grape\":grape,\"popularity\":popularity,\"rating\":rating,\"av_price\":av_price})\n",
    "    "
   ]
  },
  {
   "cell_type": "code",
   "execution_count": 17,
   "metadata": {
    "scrolled": true
   },
   "outputs": [
    {
     "data": {
      "text/plain": [
       "[{'title': 'Bodega Colome Altura Maxima Malbec, Cafayate, Argentina',\n",
       "  'href': 'https://www.wine-searcher.com/find/colome+altura+maxi+malbec+cafayate+calchaqui+valley+argentina/1/usa',\n",
       "  'grape_link': 'grape-261-malbec',\n",
       "  'grape': 'Malbec',\n",
       "  'popularity': 9568,\n",
       "  'rating': 93,\n",
       "  'av_price': 130},\n",
       " {'title': 'Bodega Colome Estate 1831 Oldest Vines Malbec, Calchaqui Valley, Argentina',\n",
       "  'href': 'https://www.wine-searcher.com/find/colome+estate+1831+oldest+vines+malbec+calchaqui+valley+cafayate+argentina/1/usa',\n",
       "  'grape_link': 'grape-261-malbec',\n",
       "  'grape': 'Malbec',\n",
       "  'popularity': 69675,\n",
       "  'rating': 92,\n",
       "  'av_price': 72},\n",
       " {'title': \"San Pedro de Yacochuya 'Yacochuya', Cafayate, Argentina\",\n",
       "  'href': 'https://www.wine-searcher.com/find/st+pedro+de+yacochuya+cafayate+calchaqui+valley+argentina/1/usa',\n",
       "  'grape_link': 'grape-261-malbec',\n",
       "  'grape': 'Malbec',\n",
       "  'popularity': 2515,\n",
       "  'rating': 91,\n",
       "  'av_price': 41},\n",
       " {'title': \"Bodegas El Porvenir de Cafayate 'El Porvenir' Our Family Icon, Cafayate, Argentina\",\n",
       "  'href': 'https://www.wine-searcher.com/find/el+porvenir+de+cafayate+our+fmly+icon+calchaqui+valley+argentina/1/usa',\n",
       "  'grape_link': 'grape-2169-rare-red-blend',\n",
       "  'grape': 'Rare Red Blend',\n",
       "  'popularity': 46874,\n",
       "  'rating': 91,\n",
       "  'av_price': 35},\n",
       " {'title': 'Bodega Colome Autentico Malbec, Calchaqui Valley, Argentina',\n",
       "  'href': 'https://www.wine-searcher.com/find/colome+authentic+malbec+calchaqui+valley+cafayate+argentina/1/usa',\n",
       "  'grape_link': 'grape-261-malbec',\n",
       "  'grape': 'Malbec',\n",
       "  'popularity': 13191,\n",
       "  'rating': 91,\n",
       "  'av_price': 33},\n",
       " {'title': 'Bodega El Esteco Altimus, Cafayate, Argentina',\n",
       "  'href': 'https://www.wine-searcher.com/find/el+esteco+altimus+cafayate+calchaqui+valley+argentina/1/usa',\n",
       "  'grape_link': 'grape-2169-rare-red-blend',\n",
       "  'grape': 'Rare Red Blend',\n",
       "  'popularity': 14638,\n",
       "  'rating': 91,\n",
       "  'av_price': 33},\n",
       " {'title': 'Bodega Colome Lote Especial Sauvignon Blanc, Calchaqui Valley, Argentina',\n",
       "  'href': 'https://www.wine-searcher.com/find/colome+spc+sauv+blanc+calchaqui+valley+cafayate+argentina/1/usa',\n",
       "  'grape_link': 'grape-435-sauvignon-blanc',\n",
       "  'grape': 'Sauvignon Blanc',\n",
       "  'popularity': 90589,\n",
       "  'rating': 91,\n",
       "  'av_price': 30},\n",
       " {'title': 'Sunal Malbec, Calchaqui Valley, Argentina',\n",
       "  'href': 'https://www.wine-searcher.com/find/sunal+malbec+calchaqui+valley+cafayate+argentina/1/usa',\n",
       "  'grape_link': 'grape-261-malbec',\n",
       "  'grape': 'Malbec',\n",
       "  'popularity': 90589,\n",
       "  'rating': 90,\n",
       "  'av_price': 29},\n",
       " {'title': 'Michel Torino Altimus, Cafayate, Argentina',\n",
       "  'href': 'https://www.wine-searcher.com/find/michel+torino+altimus+cafayate+calchaqui+valley+argentina/1/usa',\n",
       "  'grape_link': 'grape-2169-rare-red-blend',\n",
       "  'grape': 'Rare Red Blend',\n",
       "  'popularity': 94703,\n",
       "  'rating': 88,\n",
       "  'av_price': 29},\n",
       " {'title': 'Bodega El Esteco Fincas Notables Malbec, Calchaqui Valley, Argentina',\n",
       "  'href': 'https://www.wine-searcher.com/find/el+esteco+finca+notables+malbec+calchaqui+valley+cafayate+argentina/1/usa',\n",
       "  'grape_link': 'grape-261-malbec',\n",
       "  'grape': 'Malbec',\n",
       "  'popularity': 48962,\n",
       "  'rating': 91,\n",
       "  'av_price': 26},\n",
       " {'title': 'Bodega Colome Lote Especial El Arenal Malbec, Salta, Argentina',\n",
       "  'href': 'https://www.wine-searcher.com/find/colome+spc+el+arenal+malbec+salta+cafayate+calchaqui+valley+argentina/1/usa',\n",
       "  'grape_link': 'grape-261-malbec',\n",
       "  'grape': 'Malbec',\n",
       "  'popularity': 72027,\n",
       "  'rating': 91,\n",
       "  'av_price': 25},\n",
       " {'title': 'Bodega Colome Lote Especial Malbec, Calchaqui Valley, Argentina',\n",
       "  'href': 'https://www.wine-searcher.com/find/colome+spc+malbec+calchaqui+valley+cafayate+argentina/1/usa',\n",
       "  'grape_link': 'grape-261-malbec',\n",
       "  'grape': 'Malbec',\n",
       "  'popularity': 61668,\n",
       "  'rating': 90,\n",
       "  'av_price': 24},\n",
       " {'title': \"Bodegas El Porvenir de Cafayate 'Laborum' Single Vineyard Malbec, Cafayate, Argentina\",\n",
       "  'href': 'https://www.wine-searcher.com/find/el+porvenir+de+cafayate+laborum+single+malbec+calchaqui+valley+argentina/1/usa',\n",
       "  'grape_link': 'grape-261-malbec',\n",
       "  'grape': 'Malbec',\n",
       "  'popularity': 48962,\n",
       "  'rating': 90,\n",
       "  'av_price': 22},\n",
       " {'title': 'Bodega El Esteco Fincas Notables Cuartel 5 Cabernet Franc, Cafayate Valley, Argentina',\n",
       "  'href': 'https://www.wine-searcher.com/find/el+esteco+finca+notables+cuartel+five+cab+franc+cafayate+valley+calchaqui+argentina/1/usa',\n",
       "  'grape_link': 'grape-75-cabernet-franc',\n",
       "  'grape': 'Cabernet Franc',\n",
       "  'popularity': 61668,\n",
       "  'rating': 91,\n",
       "  'av_price': 22},\n",
       " {'title': \"Bodega El Esteco 'Fincas Notables' Cuartel 28 Tannat, Cafayate, Argentina\",\n",
       "  'href': 'https://www.wine-searcher.com/find/el+esteco+finca+notables+cuartel+28+tannat+cafayate+calchaqui+valley+argentina/1/usa',\n",
       "  'grape_link': 'grape-476-tannat',\n",
       "  'grape': 'Tannat',\n",
       "  'popularity': 90589,\n",
       "  'rating': 91,\n",
       "  'av_price': 22},\n",
       " {'title': \"Bodega El Esteco 'Old Vines' 1945 Torrontes, Cafayate, Argentina\",\n",
       "  'href': 'https://www.wine-searcher.com/find/el+esteco+old+vines+torront+cafayate+calchaqui+valley+argentina/1/usa',\n",
       "  'grape_link': 'grape-939-torrontes',\n",
       "  'grape': 'Torrontes',\n",
       "  'popularity': 27635,\n",
       "  'rating': 92,\n",
       "  'av_price': 19},\n",
       " {'title': \"Bodega El Esteco 'Old Vines' 1946 Malbec, Cafayate, Argentina\",\n",
       "  'href': 'https://www.wine-searcher.com/find/el+esteco+old+vines+malbec+cafayate+calchaqui+valley+argentina/1/usa',\n",
       "  'grape_link': 'grape-261-malbec',\n",
       "  'grape': 'Malbec',\n",
       "  'popularity': 39486,\n",
       "  'rating': 91,\n",
       "  'av_price': 19},\n",
       " {'title': 'Bodega Colome Lote Especial Tannat, Calchaqui Valley, Argentina',\n",
       "  'href': 'https://www.wine-searcher.com/find/colome+spc+tannat+calchaqui+valley+cafayate+argentina/1/usa',\n",
       "  'grape_link': 'grape-476-tannat',\n",
       "  'grape': 'Tannat',\n",
       "  'popularity': 42500,\n",
       "  'rating': 89,\n",
       "  'av_price': 19},\n",
       " {'title': 'Bodega El Esteco Ciclos Malbec - Merlot, Cafayate, Argentina',\n",
       "  'href': 'https://www.wine-searcher.com/find/el+esteco+ciclos+malbec+merlot+cafayate+calchaqui+valley+argentina/1/usa',\n",
       "  'grape_link': 'grape-1930-malbec-merlot',\n",
       "  'grape': 'Malbec - Merlot',\n",
       "  'popularity': 61668,\n",
       "  'rating': 89,\n",
       "  'av_price': 19},\n",
       " {'title': 'Bodega Monteviejo Lindaflor Petite Fleur Torrontes, Cafayate, Argentina',\n",
       "  'href': 'https://www.wine-searcher.com/find/monteviejo+lindaflor+petit+fleur+torront+cafayate+calchaqui+valley+argentina/1/usa',\n",
       "  'grape_link': 'grape-939-torrontes',\n",
       "  'grape': 'Torrontes',\n",
       "  'popularity': 150927,\n",
       "  'rating': 89,\n",
       "  'av_price': 19},\n",
       " {'title': \"Bodegas El Porvenir de Cafayate 'Laborum' Single Vineyard Oak Fermented Torrontes, Cafayate, Argentina\",\n",
       "  'href': 'https://www.wine-searcher.com/find/el+porvenir+de+cafayate+laborum+single+oak+ferm+torront+calchaqui+valley+argentina/1/usa',\n",
       "  'grape_link': 'grape-939-torrontes',\n",
       "  'grape': 'Torrontes',\n",
       "  'popularity': 163650,\n",
       "  'rating': 89,\n",
       "  'av_price': 19},\n",
       " {'title': 'Bodega El Esteco Malbec, Calchaqui Valley, Argentina',\n",
       "  'href': 'https://www.wine-searcher.com/find/el+esteco+malbec+calchaqui+valley+cafayate+argentina/1/usa',\n",
       "  'grape_link': 'grape-261-malbec',\n",
       "  'grape': 'Malbec',\n",
       "  'popularity': 25207,\n",
       "  'rating': 89,\n",
       "  'av_price': 18},\n",
       " {'title': \"Bodegas El Porvenir de Cafayate 'Laborum' Single Vineyard Cabernet Sauvignon, Cafayate, Argentina\",\n",
       "  'href': 'https://www.wine-searcher.com/find/el+porvenir+de+cafayate+laborum+single+cab+sauv+calchaqui+valley+argentina/1/usa',\n",
       "  'grape_link': 'grape-76-cabernet-sauvignon',\n",
       "  'grape': 'Cabernet Sauvignon',\n",
       "  'popularity': 77243,\n",
       "  'rating': 89,\n",
       "  'av_price': 18}]"
      ]
     },
     "execution_count": 17,
     "metadata": {},
     "output_type": "execute_result"
    }
   ],
   "source": [
    "dicttme"
   ]
  },
  {
   "cell_type": "markdown",
   "metadata": {},
   "source": [
    "Kill driver to show example secondary data retrieval technique/scheme"
   ]
  },
  {
   "cell_type": "code",
   "execution_count": 19,
   "metadata": {},
   "outputs": [],
   "source": [
    "indiv_wine = dicttme[0]\n",
    "driver.quit()"
   ]
  },
  {
   "cell_type": "markdown",
   "metadata": {},
   "source": [
    "# Sample data retrieval for given specific wine url, we first navigate to the page/url for an arbitrary element from the above list, go to the page retrieve the 'Profile' card columns, Parse and create an entry in the dictionary for the parsed profile information"
   ]
  },
  {
   "cell_type": "code",
   "execution_count": 20,
   "metadata": {},
   "outputs": [
    {
     "data": {
      "text/plain": [
       "{'title': 'Bodega Colome Altura Maxima Malbec, Cafayate, Argentina',\n",
       " 'href': 'https://www.wine-searcher.com/find/colome+altura+maxi+malbec+cafayate+calchaqui+valley+argentina/1/usa',\n",
       " 'grape_link': 'grape-261-malbec',\n",
       " 'grape': 'Malbec',\n",
       " 'popularity': 9568,\n",
       " 'rating': 93,\n",
       " 'av_price': 130}"
      ]
     },
     "execution_count": 20,
     "metadata": {},
     "output_type": "execute_result"
    }
   ],
   "source": [
    "indiv_wine ### typical sample dict returned from initial discovery/broad phase"
   ]
  },
  {
   "cell_type": "code",
   "execution_count": 21,
   "metadata": {},
   "outputs": [
    {
     "name": "stdout",
     "output_type": "stream",
     "text": [
      "https://www.wine-searcher.com/find/colome+altura+maxi+malbec+cafayate+calchaqui+valley+argentina/1/usa\n"
     ]
    }
   ],
   "source": [
    "indiv_url = indiv_wine[\"href\"] ## get wine dict objets href\n",
    "print(indiv_url)"
   ]
  },
  {
   "cell_type": "markdown",
   "metadata": {},
   "source": [
    "# Navigate to specific wine page"
   ]
  },
  {
   "cell_type": "code",
   "execution_count": 22,
   "metadata": {},
   "outputs": [],
   "source": [
    "driver = webdriver.Firefox(executable_path=\"geckodriver\")\n",
    "driver.get(indiv_url)"
   ]
  },
  {
   "cell_type": "markdown",
   "metadata": {},
   "source": [
    "using <b>'Profile'</b> as an example but this should be shone for all other meaningful table that contain useful info - examine them and decide whether or not to gather info"
   ]
  },
  {
   "cell_type": "code",
   "execution_count": 23,
   "metadata": {},
   "outputs": [],
   "source": [
    "driver.find_element_by_link_text(\"Profile\").click() ### using Profile as an example but this should be shone for all other meaningful table that contain useful info"
   ]
  },
  {
   "cell_type": "code",
   "execution_count": 24,
   "metadata": {},
   "outputs": [],
   "source": [
    "tab2 = driver.find_element_by_class_name(\"card-columns\")"
   ]
  },
  {
   "cell_type": "code",
   "execution_count": 25,
   "metadata": {},
   "outputs": [
    {
     "data": {
      "text/plain": [
       "<selenium.webdriver.firefox.webelement.FirefoxWebElement (session=\"98532028-bba6-2a43-9137-e38bfa5355c2\", element=\"7afab690-c8ba-9a48-b404-06947fca9186\")>"
      ]
     },
     "execution_count": 25,
     "metadata": {},
     "output_type": "execute_result"
    }
   ],
   "source": [
    "tab2"
   ]
  },
  {
   "cell_type": "code",
   "execution_count": 26,
   "metadata": {},
   "outputs": [],
   "source": [
    "profile_card = tab2.get_attribute('innerHTML')"
   ]
  },
  {
   "cell_type": "code",
   "execution_count": 27,
   "metadata": {},
   "outputs": [
    {
     "name": "stdout",
     "output_type": "stream",
     "text": [
      "\n",
      "\n",
      "<div class=\"card info-card rounded-0 corner-sm\">\n",
      "<div class=\"card-header\">\n",
      "<svg class=\"text-nobel-gray svgicon-lg svgicon icon-products\"><use xlink:href=\"/images/wsmain-24.svg#icon-products\"></use></svg> <h3>About the Product</h3>\n",
      "<a title=\"View glossary\" class=\"small float-right\" href=\"/technical-wine-terms.lml\" target=\"_blank\">Glossary</a>\n",
      "</div>\n",
      "<div class=\"card-body\">\n",
      "<div class=\"row about-the-product\">\n",
      "<div class=\"col-md-24\">\n",
      "<div class=\"about-the-product__wine-notes\">\n",
      "<div class=\"mb-3\"><b>Ownership: Hess Family.</b></div>                                                            <ul><li>Critics have rated this as the best available among Cafayate - Calchaqui Valley wines: the 2016 vintage was given a score of 95 by The Wine Advocate and the 2013 vintage was given a score of 18/20 by Jancis Robinson.</li><li>This is the third highest-priced wine from Cafayate - Calchaqui Valley. The price has been stable over the past year.</li><li>This is the sixth most searched for among this region's wines (by Wine-Searcher users). This wine has increased in popularity over the past year.</li></ul>                                                    </div>\n",
      "<hr class=\"mt-0\">\n",
      "</div>\n",
      "\n",
      "<div class=\"col-md-12 mb-3\">\n",
      "<div class=\"d-flex\">\n",
      "<span class=\"icon-list__icon\"><svg class=\"svgicon icon-producer\"><use xlink:href=\"/images/wsmain-24.svg#icon-producer\"></use></svg></span>\n",
      "<span>\n",
      "<span class=\"smallish text-muted d-block\">Producer</span>\n",
      "<a class=\"btn_link\" href=\"/merchant/22960\" title=\"View producer's profile\">\n",
      "<b>Bodega Colome</b>\n",
      "</a>\n",
      "</span>\n",
      "</div>\n",
      "</div>\n",
      "\n",
      "<div class=\"col-md-12 mb-3\">\n",
      "<div class=\"d-flex\">\n",
      "<span class=\"icon-list__icon\"><svg class=\"svgicon icon-price\"><use xlink:href=\"/images/wsmain-24.svg#icon-price\"></use></svg></span>\n",
      "<span>\n",
      "<span class=\"smallish text-muted d-block\">Avg. Price (ex-tax)</span>\n",
      "<span class=\"d-inline-block\"><b>$147</b></span> / 750ml\n",
      "</span>\n",
      "</div>\n",
      "</div>\n",
      "\n",
      "<div class=\"col-md-12 mb-3\">\n",
      "<div class=\"d-flex\">\n",
      "<span class=\"icon-list__icon\"><svg class=\"svgicon icon-regions\"><use xlink:href=\"/images/wsmain-24.svg#icon-regions\"></use></svg></span>\n",
      "<span>\n",
      "<span class=\"smallish text-muted d-block\">Region / Appellation</span>\n",
      "<a class=\"btn_link\" href=\"/regions-cafayate+-+calchaqui+valley\" title=\"View information about the Cafayate - Calchaqui Valley wine region\">\n",
      "<b>Cafayate - Calchaqui Valley</b>\n",
      "</a>\n",
      "</span>\n",
      "</div>\n",
      "</div>\n",
      "\n",
      "<div class=\"col-md-12 mb-3\">\n",
      "<div class=\"d-flex\">\n",
      "<span class=\"icon-list__icon\"><svg class=\"svgicon icon-country\"><use xlink:href=\"/images/wsmain-24.svg#icon-country\"></use></svg></span>\n",
      "<span>\n",
      "<span class=\"smallish text-muted d-block\">Country Hierarchy</span>\n",
      "<a href=\"/regions-argentina\" title=\"View information about the Argentina wine region\">\n",
      "<b>Argentina</b>\n",
      "</a>\n",
      "</span>\n",
      "</div>\n",
      "</div>\n",
      "\n",
      "<div class=\"col-md-12 mb-3\">\n",
      "<div class=\"d-flex\">\n",
      "<span class=\"icon-list__icon\"><svg class=\"svgicon icon-style\"><use xlink:href=\"/images/wsmain-24.svg#icon-style\"></use></svg></span>\n",
      "<span>\n",
      "<span class=\"smallish text-muted d-block\">Wine Style</span>\n",
      "<a class=\"btn_link\" href=\"/styles-4-red-rich-and-intense\" title=\"View Wine Style\">\n",
      "<b>Red - Rich and Intense</b>\n",
      "</a>\n",
      "</span>\n",
      "</div>\n",
      "</div>\n",
      "\n",
      "<div class=\"col-md-12 mb-3\">\n",
      "<div class=\"d-flex\">\n",
      "<span class=\"icon-list__icon\"><svg class=\"svgicon icon-grapes\"><use xlink:href=\"/images/wsmain-24.svg#icon-grapes\"></use></svg></span>\n",
      "<span>\n",
      "<span class=\"smallish text-muted d-block\">Grape / Blend</span>\n",
      "<a class=\"btn_link\" href=\"/grape-261-malbec\" title=\"View information about the Malbec grape variety\">\n",
      "<b>Malbec</b>\n",
      "</a>\n",
      "</span>\n",
      "</div>\n",
      "</div>\n",
      "\n",
      "\n",
      "\n",
      "<div class=\"col-md-12 mb-3\">\n",
      "<div class=\"d-flex\">\n",
      "<span class=\"icon-list__icon\"><svg class=\"svgicon icon-food\"><use xlink:href=\"/images/wsmain-24.svg#icon-food\"></use></svg></span>\n",
      "<span>\n",
      "<span class=\"smallish text-muted d-block\">Food Suggestion</span>\n",
      "<a href=\"/food-wine-1-beef-and-venison\" title=\"View Food Category\">\n",
      "<b>Beef and Venison</b>\n",
      "</a>\n",
      "</span>\n",
      "</div>\n",
      "</div>\n",
      "\n",
      "\n",
      "<div class=\"col-md-24\">\n",
      "<hr class=\"mt-0\">\n",
      "<div class=\"d-flex mb-3\">\n",
      "<span class=\"icon-list__icon d-flex\"><svg class=\"svgicon icon-info\"><use xlink:href=\"/images/wsmain-24.svg#icon-info\"></use></svg></span>\n",
      "<span class=\"smallish text-muted d-block\">Analytical Data</span>\n",
      "</div>\n",
      "</div>\n",
      "<div class=\"col-md-12 mb-3\">\n",
      "<div class=\"d-flex pl-4\">\n",
      "<span>\n",
      "<span class=\"smallish text-muted d-block\">Alcohol ABV</span>\n",
      "<span class=\"d-inline-block text-more-line js-content\"><b>14.9 - 15%</b></span>\n",
      "<p class=\"mb-0 smallish read-more d-none\">Read more</p>\n",
      "</span>\n",
      "</div>\n",
      "</div>\n",
      "</div>\n",
      "</div>\n",
      "</div>\n",
      "\n",
      "<div class=\"card info-card rounded-0 corner-sm\">\n",
      "<div class=\"card-header\">\n",
      "<svg class=\"text-nobel-gray svgicon-lg svgicon icon-grapes\"><use xlink:href=\"/images/wsmain-24.svg#icon-grapes\"></use></svg> <h3>Malbec</h3> <a id=\"MoreGrapeDetail\" class=\"small float-right\" href=\"/grape-261-malbec\" title=\"More information about the Malbec grape variety\">Learn more</a>        </div>\n",
      "<div class=\"card-body\">\n",
      "<div class=\"row\">\n",
      "<div class=\"col-8 pr-2\">\n",
      "<img class=\"rounded-lg img-fluid lazy\" src=\"/images/pixel.gif\" alt=\"Malbec\" data-src=\"/images/grape/malbec-261-1-1.jpg?width=174&amp;height=145&amp;fit=crop\" width=\"174\" height=\"145\">               </div>\n",
      "<div class=\"col-16 pl-2\">\n",
      "<div class=\"card-text\">\n",
      "<span class=\"wlicon btlred\"></span>\n",
      "<p><strong>Malbec</strong> is a black-skinned grape variety native to <a href=\"/regions-south+west+france\">South West France</a>&nbsp;(specifically the area around <a title=\"Cahors Wine Region\" href=\"/regions-cahors\" target=\"_self\">Cahors</a>), but now better known as the iconic wine grape of <a href=\"/regions-argentina\">Argentina</a>. Through its success in the vineyards of <a title=\"Mendoza Wine Region\" href=\"/regions-mendoza\" target=\"_self\">Mendoza</a>, in a few short decades Malbec has shot from relative obscurity to international f...</p>                    </div>\n",
      "</div>\n",
      "</div>\n",
      "</div>\n",
      "</div>\n",
      "\n",
      "<div class=\"card info-card rounded-0 corner-sm\">\n",
      "<div class=\"card-header\">\n",
      "<svg class=\"text-nobel-gray svgicon-lg svgicon icon-regions\"><use xlink:href=\"/images/wsmain-24.svg#icon-regions\"></use></svg> <h3>Cafayate - Calchaqui Valley</h3> <a id=\"MoreRegionDetail\" class=\"small float-right\" href=\"/regions-cafayate+-+calchaqui+valley\" title=\"More information about the Cafayate - Calchaqui Valley wine region\">Learn more</a>        </div>\n",
      "<div class=\"card-body\">\n",
      "<div class=\"row\">\n",
      "<div class=\"col-8 pr-2\">\n",
      "<img class=\"rounded-lg img-fluid\" src=\"/images/region/cafayate---calchaqui-valley-677-1-1.jpg?width=174&amp;height=145&amp;fit=crop\" alt=\"Cafayate - Calchaqui Valley\" width=\"174\" height=\"145\">                </div>\n",
      "<div class=\"col-16 pl-2\">\n",
      "<div class=\"card-text\">\n",
      "<p><strong>Cafayate</strong> is a wine-producing region in the north-west of Argentina, located within the wider <strong>Calchaqui Valley</strong> - one of the highest places in the world suitable for viticulture. The town of Cafayate sits near the southern border of Argentina's northernmost wine region, <a title=\"Salta Wine Region\" href=\"/regions-salta\">Salta</a>, although administrati...</p>                    </div>\n",
      "</div>\n",
      "</div>\n",
      "</div>\n",
      "</div>\n",
      "\n",
      "<div class=\"card info-card rounded-0 corner-sm\">\n",
      "<div class=\"card-header\">\n",
      "<svg class=\"text-nobel-gray svgicon-lg svgicon icon-producer\"><use xlink:href=\"/images/wsmain-24.svg#icon-producer\"></use></svg> <h3>Bodega Colome</h3> <a id=\"MoreProducerDetail\" class=\"small float-right\" href=\"https://www.wine-searcher.com/merchant/22960\" title=\"More information about the Bodega Colome\">Learn more</a>        </div>\n",
      "<div class=\"card-body\">\n",
      "<div class=\"row\">\n",
      "<div class=\"col-8 pr-2\">\n",
      "<img class=\"rounded-lg img-fluid\" src=\"/images/producer/60/00022960-1-1.jpg?width=174&amp;height=145&amp;fit=crop\" alt=\"Bodega Colome\" width=\"174\" height=\"145\">                </div>\n",
      "<div class=\"col-16 pl-2\">\n",
      "<div class=\"card-text\">\n",
      "<p><strong>Bodegas Colomé</strong> is a winery in the <a href=\"/regions-salta\" title=\"Salta Wine Region\">Salta</a> region of <a href=\"/regions-argentina\" title=\"Argentina Wine Region\">Argentina</a>, known mainly for its red wines from the <a href=\"/grape-261-malbec\" title=\"Malbec Wine Grape Variety\">Malbec</a> grape, and whites from <a href=\"/grape-939-torrontes\" title=\"Torrontes Wine Grape Variety\">Torrontés</a>, from fruit grown at extreme altitude.</p>\n",
      "<p>The operation is located in the Upper Calchaquí Valleys, within the massive Colomé estate, which extends to 39,000 h...</p>                    </div>\n",
      "</div>\n",
      "</div>\n",
      "</div>\n",
      "</div>\n",
      "\n",
      "<div class=\"card info-card rounded-0 corner-sm\">\n",
      "<div class=\"card-header\">\n",
      "<svg class=\"text-nobel-gray svgicon-lg svgicon icon-news\"><use xlink:href=\"/images/wsmain-24.svg#icon-news\"></use></svg>            <h3>Related News</h3> <span class=\"small text-muted\"> (1)</span>\n",
      "</div>\n",
      "<div class=\"card-body info-card__more\">\n",
      "<div class=\"row\">\n",
      "<div class=\"col-16 pr-0\">\n",
      "<h6 class=\"card-title\"><a href=\"/m/2017/02/what-s-the-big-deal-about-high-altitude-wines\">What's the Big Deal about High-Altitude Wines?</a></h6>\n",
      "<div class=\"card-text\">Many wineries make a point of boasting about the altitude of their vineyards. <strong>Wink Lorch</strong> investigates why they bother.</div>\n",
      "<div class=\"small text-muted pt-3\">21-Feb-2017</div>\n",
      "</div>\n",
      "<div class=\"col-8 pl-3 text-right\">\n",
      "<a href=\"/m/2017/02/what-s-the-big-deal-about-high-altitude-wines\">\n",
      "<img class=\"rounded-lg img-fluid lazy\" src=\"/images/no-img.png\" alt=\"Related article 1\" data-src=\"/images/news/60/06/alti1-10006006-1487632112y.jpg?width=147&amp;height=90&amp;fit=crop\" width=\"147\" height=\"90\">                             </a>\n",
      "</div>\n",
      "</div>\n",
      "</div>\n",
      "</div>\n",
      "\n",
      "<div class=\"card info-card rounded-0 corner-sm\">\n",
      "<div class=\"card-body info-card-header\">\n",
      "<svg class=\"text-nobel-gray svgicon-lg svgicon icon-links\"><use xlink:href=\"/images/wsmain-24.svg#icon-links\"></use></svg> Links to other Wine Notes\n",
      "<a title=\"View wine tasting notes\" class=\"small float-right\" rel=\"nofollow\" href=\"/wine-notes-search?query=Bodega+Colome+Altura+Maxima+Malbec%2C+Cafayate%2C+Argentina&amp;sa=Submit+Query\" target=\"_blank\">See all</a>\n",
      "</div>\n",
      "</div>\n",
      "\n"
     ]
    }
   ],
   "source": [
    "print(profile_card)"
   ]
  },
  {
   "cell_type": "markdown",
   "metadata": {},
   "source": [
    "# Parse and Format above card and create a 'profile' key in the specific wines dictionary - e.g.\n",
    "# indiv_wine[0]['wine_profile'] ={ \n",
    "# 'flavors':['flav1','flav2'], \n",
    "# 'common_pairings':['food1','food2'],\n",
    "# 'foo': {'s':2},\n",
    "# 'bar':'50000'\n",
    "# }"
   ]
  },
  {
   "cell_type": "code",
   "execution_count": null,
   "metadata": {},
   "outputs": [],
   "source": []
  },
  {
   "cell_type": "code",
   "execution_count": null,
   "metadata": {},
   "outputs": [],
   "source": []
  }
 ],
 "metadata": {
  "anaconda-cloud": {},
  "kernelspec": {
   "display_name": "Python 3",
   "language": "python",
   "name": "python3"
  },
  "language_info": {
   "codemirror_mode": {
    "name": "ipython",
    "version": 3
   },
   "file_extension": ".py",
   "mimetype": "text/x-python",
   "name": "python",
   "nbconvert_exporter": "python",
   "pygments_lexer": "ipython3",
   "version": "3.8.5"
  }
 },
 "nbformat": 4,
 "nbformat_minor": 1
}
